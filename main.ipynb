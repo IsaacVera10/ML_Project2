{
 "cells": [
  {
   "cell_type": "code",
   "execution_count": 8,
   "metadata": {},
   "outputs": [],
   "source": [
    "import pandas as pd"
   ]
  },
  {
   "cell_type": "code",
   "execution_count": 17,
   "metadata": {},
   "outputs": [],
   "source": [
    "# Cargar el archivo clases.txt\n",
    "clases = pd.read_csv('clase.txt')  # Establece la primera fila como encabezado y la primera columna como índice\n",
    "\n",
    "# Cargar el archivo datasettissue.txt\n",
    "data = pd.read_csv('dataset_tissue.txt')  # Establece la primera fila como encabezado y la primera columna como índice, y utiliza tabulaciones como delimitador"
   ]
  },
  {
   "cell_type": "code",
   "execution_count": 20,
   "metadata": {},
   "outputs": [
    {
     "name": "stdout",
     "output_type": "stream",
     "text": [
      "(189, 2)\n",
      "(22215, 190)\n"
     ]
    }
   ],
   "source": [
    "# Ver las primeras filas del archivo clases.txt\n",
    "print(clases.shape)\n",
    "print(data.shape)\n"
   ]
  }
 ],
 "metadata": {
  "kernelspec": {
   "display_name": "venv",
   "language": "python",
   "name": "python3"
  },
  "language_info": {
   "codemirror_mode": {
    "name": "ipython",
    "version": 3
   },
   "file_extension": ".py",
   "mimetype": "text/x-python",
   "name": "python",
   "nbconvert_exporter": "python",
   "pygments_lexer": "ipython3",
   "version": "3.10.2"
  },
  "orig_nbformat": 4
 },
 "nbformat": 4,
 "nbformat_minor": 2
}
